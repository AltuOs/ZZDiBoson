{
 "cells": [
  {
   "cell_type": "markdown",
   "metadata": {},
   "source": [
    "<td><img src=\"ATLAS-Logo-Blue-transparent.png\" alt=\"Logo ATLAS\" \"width=500px;\"/></td>\n",
    "<td><img src=\"root-6.png\" alt=\"Logo Root\"  \"width=500px;\"/></td>"
   ]
  },
  {
   "cell_type": "markdown",
   "metadata": {},
   "source": [
    "<td><img src=\"ictp_head_logo.png\" alt=\"Logo del ICTP\" \"width=500px;\"/></td>\n",
    "<td><td><td><td><td><td><td><td><td><td><td><img src=\"ula.png\" alt=\"Logo Ula\"  \"width=100px;\"/></td></td></td></td></td></td></td></td></td></td></td>"
   ]
  },
  {
   "cell_type": "markdown",
   "metadata": {},
   "source": [
    "<Center><h1>Computational reproduction, optimisation and discussion of the ATLAS Experiment analysis on the production of ZZ in proton-proton collisions at √s = 13 TeV using Open Data</h1></Center>\n",
    "\n",
    "\n",
    "**Introduction**\n",
    "We run the ZZDiBoson analysis and create the histograms"
   ]
  },
  {
   "cell_type": "markdown",
   "metadata": {},
   "source": [
    "**We need to include some standard C++ and ROOT libraries**"
   ]
  },
  {
   "cell_type": "code",
   "execution_count": 1,
   "metadata": {},
   "outputs": [],
   "source": [
    "#include <stdio.h>\n",
    "#include <stdlib.h>\n",
    "#include <cstdio>\n",
    "#include <iostream>\n",
    "#include <time.h> "
   ]
  },
  {
   "cell_type": "markdown",
   "metadata": {},
   "source": [
    "# 1. ZZDiBoson Analysis code of 13Tev dataset  "
   ]
  },
  {
   "cell_type": "markdown",
   "metadata": {},
   "source": [
    "Entering the folder containing the analysis code"
   ]
  },
  {
   "cell_type": "code",
   "execution_count": 2,
   "metadata": {},
   "outputs": [],
   "source": [
    "chdir(\"/home/student/ZZDiBoson/\");"
   ]
  },
  {
   "cell_type": "code",
   "execution_count": 3,
   "metadata": {},
   "outputs": [
    {
     "name": "stdout",
     "output_type": "stream",
     "text": [
      "/home/student/ZZDiBoson\n"
     ]
    }
   ],
   "source": [
    "system(\"pwd\");"
   ]
  },
  {
   "cell_type": "markdown",
   "metadata": {},
   "source": [
    "## Creat the output folder"
   ]
  },
  {
   "cell_type": "markdown",
   "metadata": {},
   "source": [
    "### Welcome to ATLAS 13 TeV Open Data C++ framework!!!\n",
    "\n",
    "#### Creating all output directories and cleaning created files"
   ]
  },
  {
   "cell_type": "code",
   "execution_count": 4,
   "metadata": {},
   "outputs": [],
   "source": [
    "system(\"mkdir -p Output_ZZDiBosonAnalysis\");"
   ]
  },
  {
   "cell_type": "markdown",
   "metadata": {},
   "source": [
    "#### Creating the directory for the Plotting code: Plotting/histograms"
   ]
  },
  {
   "cell_type": "code",
   "execution_count": 5,
   "metadata": {},
   "outputs": [
    {
     "name": "stderr",
     "output_type": "stream",
     "text": [
      "mkdir: cannot create directory ‘Plotting/histograms’: File exists\n"
     ]
    }
   ],
   "source": [
    "system(\"mkdir Plotting/histograms\");"
   ]
  },
  {
   "cell_type": "code",
   "execution_count": 6,
   "metadata": {},
   "outputs": [],
   "source": [
    "system(\"./clean.sh\");"
   ]
  },
  {
   "cell_type": "markdown",
   "metadata": {},
   "source": [
    "List the content of this folder"
   ]
  },
  {
   "cell_type": "code",
   "execution_count": 7,
   "metadata": {},
   "outputs": [
    {
     "name": "stdout",
     "output_type": "stream",
     "text": [
      "total 128K\n",
      "-rw-r--r-- 1 student student  16K Jan  4 22:47 ZZDiBosonAnalysis.h\n",
      "-rw-r--r-- 1 student student  13K Jan  4 22:47 ZZDiBosonAnalysis.C\n",
      "-rw-r--r-- 1 student student  11K Jan  4 22:47 README.md\n",
      "-rw-r--r-- 1 student student 5.0K Jan  4 22:47 ZZDiBosonAnalysisHistograms.h\n",
      "-rwxr-xr-x 1 student student 1.7K Jan  4 22:47 welcome.sh\n",
      "-rwxr-xr-x 1 student student  613 Jan  4 22:47 run.sh\n",
      "-rwxr-xr-x 1 student student  163 Jan  4 22:47 clean.sh\n",
      "-rw-r--r-- 1 student student 7.8K Jan  4 22:51 main_ZZDiBosonAnalysis.C\n",
      "-rw-r--r-- 1 student student  48K Jan  4 23:01 ATLAS-Open-Data-cpp-13-TeV-framework-ZZDiBosonAnalysis.ipynb\n",
      "drwxr-xr-x 5 student student 4.0K Jan  4 23:02 Plotting\n",
      "drwxr-xr-x 2 student student 4.0K Jan  4 23:04 Output_ZZDiBosonAnalysis\n"
     ]
    }
   ],
   "source": [
    "system(\"ls -lhrt\");"
   ]
  },
  {
   "cell_type": "markdown",
   "metadata": {},
   "source": [
    "## 3. Begin analysis"
   ]
  },
  {
   "cell_type": "markdown",
   "metadata": {},
   "source": [
    "##### Which option should I run? \n",
    "Options are:\n",
    "\n",
    "0 = run all data and MC one after another\n",
    "\n",
    "1 = run data only \n",
    "\n",
    "2,3 = run MC samples only"
   ]
  },
  {
   "cell_type": "markdown",
   "metadata": {},
   "source": [
    "##### Should I use PROOF? \\(will make things faster\\)\n",
    "Options are:\n",
    "\n",
    "0 = NO\n",
    "\n",
    "1 = YES"
   ]
  },
  {
   "cell_type": "markdown",
   "metadata": {},
   "source": [
    "Now it's time to RUN!"
   ]
  },
  {
   "cell_type": "code",
   "execution_count": 8,
   "metadata": {},
   "outputs": [],
   "source": [
    "system(\"chmod 755 run.sh\"); //permission"
   ]
  },
  {
   "cell_type": "code",
   "execution_count": 9,
   "metadata": {},
   "outputs": [
    {
     "name": "stdout",
     "output_type": "stream",
     "text": [
      "Which option should I run?\n",
      "Options are:\n",
      "0 = run all data and MC one after another\n",
      "1 = run data only\n",
      "2,3 = run MC samples only\n",
      "Should I use PROOF? (will make things faster)\n",
      "Options are:\n",
      "0 = NO\n",
      "1 = YES\n",
      "starting ROOT\n"
     ]
    },
    {
     "name": "stderr",
     "output_type": "stream",
     "text": [
      "Info in <TUnixSystem::ACLiC>: creating shared library /home/student/ZZDiBoson/./main_ZZDiBosonAnalysis_C.so\n",
      "Warning in cling::IncrementalParser::CheckABICompatibility():\n",
      "  Possible C++ standard library mismatch, compiled with __GLIBCXX__ '20181206'\n",
      "  Extraction of runtime standard library version was: '20191114'\n"
     ]
    },
    {
     "name": "stdout",
     "output_type": "stream",
     "text": [
      " +++ Starting PROOF-Lite with 2 workers +++\n"
     ]
    },
    {
     "name": "stderr",
     "output_type": "stream",
     "text": [
      "Opening connections to workers: OK (2 workers)                 \n",
      "Setting up worker servers: OK (2 workers)                 \n"
     ]
    },
    {
     "name": "stdout",
     "output_type": "stream",
     "text": [
      "PROOF set to parallel mode (2 workers)\n",
      " \n"
     ]
    },
    {
     "name": "stderr",
     "output_type": "stream",
     "text": [
      "Info in <TProofLite::SetQueryRunning>: starting query: 1\n",
      "Info in <TProofQueryResult::SetRunning>: nwrks: 2\n",
      "Looking up for exact location of files: OK (4 files)                 \n",
      "Looking up for exact location of files: OK (4 files)                 \n",
      "Info in <TPacketizer::TPacketizer>: Initial number of workers: 2\n",
      "Validating files: OK (4 files)                 \n",
      "[TProof::Progress] Total 832 events\t|====================| 100.00 % [3047.6 evts/s, 1.1 MB/s, time left: 0.0 s]\n",
      " Query processing time: 0.3 s\n",
      "Lite-0: merging output objects ... | (1 workers still sending)   \r"
     ]
    },
    {
     "name": "stdout",
     "output_type": "stream",
     "text": [
      "Writting with name option: data \n",
      " \n"
     ]
    },
    {
     "name": "stderr",
     "output_type": "stream",
     "text": [
      "Lite-0: all output objects have been merged                                                         \n",
      "Info in <TProofLite::SetQueryRunning>: starting query: 2\n",
      "Info in <TProofQueryResult::SetRunning>: nwrks: 2\n",
      "Info in <ACLiC>: unmodified script has already been compiled and loaded\n",
      "Looking up for exact location of files: OK (1 files)                 \n",
      "Looking up for exact location of files: OK (1 files)                 \n",
      "Info in <TPacketizer::TPacketizer>: Initial number of workers: 2\n",
      "Validating files: OK (1 files)                 \n"
     ]
    },
    {
     "name": "stdout",
     "output_type": "stream",
     "text": [
      "Writting with name option: ZqqZll \n",
      " \n"
     ]
    },
    {
     "name": "stderr",
     "output_type": "stream",
     "text": [
      "[TProof::Progress] Total 254 events\t|====================| 100.00 % [3135.8 evts/s, 2.5 MB/s, time left: 0.0 s]\n",
      " Query processing time: 0.1 s\n",
      "Lite-0: all output objects have been merged                                                         \n",
      "Info in <TProofLite::SetQueryRunning>: starting query: 3\n",
      "Info in <TProofQueryResult::SetRunning>: nwrks: 2\n",
      "Info in <ACLiC>: unmodified script has already been compiled and loaded\n",
      "Looking up for exact location of files: OK (1 files)                 \n",
      "Looking up for exact location of files: OK (1 files)                 \n",
      "Info in <TPacketizer::TPacketizer>: Initial number of workers: 2\n",
      "Validating files: OK (1 files)                 \n",
      "[TProof::Progress] Total 1316619 events\t|====================| 100.00 % [15258.8 evts/s, 7.7 MB/s, time left: 0.0 s]]\n",
      " Query processing time: 86.3 s\n",
      "Lite-0: merging output objects ... | (1 workers still sending)   \r"
     ]
    },
    {
     "name": "stdout",
     "output_type": "stream",
     "text": [
      "Writting with name option: WqqZll \n",
      " \n"
     ]
    },
    {
     "name": "stderr",
     "output_type": "stream",
     "text": [
      "Lite-0: all output objects have been merged                                                         \n",
      "Info in <TProofLite::SetQueryRunning>: starting query: 4\n",
      "Info in <TProofQueryResult::SetRunning>: nwrks: 2\n",
      "Info in <ACLiC>: unmodified script has already been compiled and loaded\n",
      "Looking up for exact location of files: OK (1 files)                 \n",
      "Looking up for exact location of files: OK (1 files)                 \n",
      "Info in <TPacketizer::TPacketizer>: Initial number of workers: 2\n",
      "Validating files: OK (1 files)                 \n",
      "[TProof::Progress] Total 13375 events\t|====================| 100.00 % [8623.5 evts/s, 4.7 MB/s, time left: 0.0 s]\n",
      " Query processing time: 1.6 s\n",
      "Lite-0: merging output objects ... | (1 workers still sending)   \r"
     ]
    },
    {
     "name": "stdout",
     "output_type": "stream",
     "text": [
      "Writting with name option: WpqqWmlv \n",
      " \n"
     ]
    },
    {
     "name": "stderr",
     "output_type": "stream",
     "text": [
      "Lite-0: all output objects have been merged                                                         \n",
      "Info in <TProofLite::SetQueryRunning>: starting query: 5\n",
      "Info in <TProofQueryResult::SetRunning>: nwrks: 2\n",
      "Info in <ACLiC>: unmodified script has already been compiled and loaded\n",
      "Looking up for exact location of files: OK (1 files)                 \n",
      "Looking up for exact location of files: OK (1 files)                 \n",
      "Info in <TPacketizer::TPacketizer>: Initial number of workers: 2\n",
      "Validating files: OK (1 files)                 \n",
      "[TProof::Progress] Total 14245 events\t|====================| 100.00 % [9061.7 evts/s, 5.0 MB/s, time left: 0.0 s]\n",
      " Query processing time: 1.6 s\n",
      "Lite-0: merging output objects ... | (1 workers still sending)   \r"
     ]
    },
    {
     "name": "stdout",
     "output_type": "stream",
     "text": [
      "Writting with name option: WplvWmqq \n",
      " \n"
     ]
    },
    {
     "name": "stderr",
     "output_type": "stream",
     "text": [
      "Lite-0: all output objects have been merged                                                         \n",
      "Info in <TProofLite::SetQueryRunning>: starting query: 6\n",
      "Info in <TProofQueryResult::SetRunning>: nwrks: 2\n",
      "Info in <ACLiC>: unmodified script has already been compiled and loaded\n",
      "Looking up for exact location of files: OK (1 files)                 \n",
      "Looking up for exact location of files: OK (1 files)                 \n",
      "Info in <TPacketizer::TPacketizer>: Initial number of workers: 2\n",
      "Validating files: OK (1 files)                 \n",
      "Lite-0: merging output objects ... - (2 workers still sending)   8 % [10340.3 evts/s, 6.0 MB/s, time left: 0.3 s]\r"
     ]
    },
    {
     "name": "stdout",
     "output_type": "stream",
     "text": [
      "Writting with name option: WlvZqq \n",
      " \n"
     ]
    },
    {
     "name": "stderr",
     "output_type": "stream",
     "text": [
      "[TProof::Progress] Total 28199 events\t|====================| 100.00 % [10985.2 evts/s, 6.0 MB/s, time left: 0.0 s]\n",
      " Query processing time: 2.6 s\n",
      "Lite-0: all output objects have been merged                                                         \n",
      "Info in <TProofLite::SetQueryRunning>: starting query: 7\n",
      "Info in <TProofQueryResult::SetRunning>: nwrks: 2\n",
      "Info in <ACLiC>: unmodified script has already been compiled and loaded\n",
      "Looking up for exact location of files: OK (1 files)                 \n",
      "Looking up for exact location of files: OK (1 files)                 \n",
      "Info in <TPacketizer::TPacketizer>: Initial number of workers: 2\n",
      "Validating files: OK (1 files)                 \n",
      "[TProof::Progress] Total 554279 events\t|====================| 100.00 % [11433.1 evts/s, 7.0 MB/s, time left: 0.0 s]\n",
      " Query processing time: 48.5 s\n"
     ]
    },
    {
     "name": "stdout",
     "output_type": "stream",
     "text": [
      "Writting with name option: llll \n",
      " \n"
     ]
    },
    {
     "name": "stderr",
     "output_type": "stream",
     "text": [
      "Lite-0: all output objects have been merged                                                         \n",
      "Info in <TProofLite::SetQueryRunning>: starting query: 8\n",
      "Info in <TProofQueryResult::SetRunning>: nwrks: 2\n",
      "Info in <ACLiC>: unmodified script has already been compiled and loaded\n",
      "Looking up for exact location of files: OK (1 files)                 \n",
      "Looking up for exact location of files: OK (1 files)                 \n",
      "Info in <TPacketizer::TPacketizer>: Initial number of workers: 2\n",
      "Validating files: OK (1 files)                 \n",
      "[TProof::Progress] Total 9340 events\t|====================| 100.00 % [12570.7 evts/s, 8.6 MB/s, time left: 0.0 s]\n",
      " Query processing time: 0.7 s\n",
      "Lite-0: merging output objects ... | (1 workers still sending)   \r"
     ]
    },
    {
     "name": "stdout",
     "output_type": "stream",
     "text": [
      "Writting with name option: lllv \n",
      " \n"
     ]
    },
    {
     "name": "stderr",
     "output_type": "stream",
     "text": [
      "Lite-0: all output objects have been merged                                                         \n",
      "Info in <TProofLite::SetQueryRunning>: starting query: 9\n",
      "Info in <TProofQueryResult::SetRunning>: nwrks: 2\n",
      "Info in <ACLiC>: unmodified script has already been compiled and loaded\n",
      "Looking up for exact location of files: OK (1 files)                 \n",
      "Looking up for exact location of files: OK (1 files)                 \n",
      "Info in <TPacketizer::TPacketizer>: Initial number of workers: 2\n",
      "Validating files: OK (1 files)                 \n"
     ]
    },
    {
     "name": "stdout",
     "output_type": "stream",
     "text": [
      "Writting with name option: llvv \n",
      " \n"
     ]
    },
    {
     "name": "stderr",
     "output_type": "stream",
     "text": [
      "[TProof::Progress] Total 137 events\t|====================| 100.00 % [2914.9 evts/s, 2.7 MB/s, time left: 0.0 s]\n",
      " Query processing time: 0.0 s\n",
      "Lite-0: all output objects have been merged                                                         \n",
      "Info in <TProofLite::SetQueryRunning>: starting query: 10\n",
      "Info in <TProofQueryResult::SetRunning>: nwrks: 2\n",
      "Info in <ACLiC>: unmodified script has already been compiled and loaded\n",
      "Looking up for exact location of files: OK (1 files)                 \n",
      "Looking up for exact location of files: OK (1 files)                 \n",
      "Info in <TPacketizer::TPacketizer>: Initial number of workers: 2\n",
      "Validating files: OK (1 files)                 \n",
      "[TProof::Progress] Total 11789 events\t|====================| 100.00 % [10423.5 evts/s, 5.7 MB/s, time left: 0.0 s]\n",
      " Query processing time: 1.1 s\n",
      "Lite-0: merging output objects ... | (1 workers still sending)   \r"
     ]
    },
    {
     "name": "stdout",
     "output_type": "stream",
     "text": [
      "Writting with name option: lvvv \n",
      " \n"
     ]
    },
    {
     "name": "stderr",
     "output_type": "stream",
     "text": [
      "Lite-0: all output objects have been merged                                                         \n",
      "Info in <TProofLite::SetQueryRunning>: starting query: 11\n",
      "Info in <TProofQueryResult::SetRunning>: nwrks: 2\n",
      "Info in <ACLiC>: unmodified script has already been compiled and loaded\n",
      "Looking up for exact location of files: OK (1 files)                 \n",
      "Looking up for exact location of files: OK (1 files)                 \n",
      "Info in <TPacketizer::TPacketizer>: Initial number of workers: 2\n",
      "Validating files: OK (1 files)                 \n",
      "[TProof::Progress] Total 898 events\t|====================| 100.00 % [8163.6 evts/s, 5.1 MB/s, time left: 0.0 s]\n",
      " Query processing time: 0.1 s\n"
     ]
    },
    {
     "name": "stdout",
     "output_type": "stream",
     "text": [
      "Writting with name option: Zee \n",
      " \n"
     ]
    },
    {
     "name": "stderr",
     "output_type": "stream",
     "text": [
      "Lite-0: all output objects have been merged                                                         \n",
      "Info in <TProofLite::SetQueryRunning>: starting query: 12\n",
      "Info in <TProofQueryResult::SetRunning>: nwrks: 2\n",
      "Info in <ACLiC>: unmodified script has already been compiled and loaded\n",
      "Looking up for exact location of files: OK (1 files)                 \n",
      "Looking up for exact location of files: OK (1 files)                 \n",
      "Info in <TPacketizer::TPacketizer>: Initial number of workers: 2\n",
      "Validating files: OK (1 files)                 \n",
      "[TProof::Progress] Total 684 events\t|====================| 100.00 % [5142.9 evts/s, 3.3 MB/s, time left: 0.0 s]\n",
      " Query processing time: 0.1 s\n",
      "Lite-0: merging output objects ... | (1 workers still sending)   \r"
     ]
    },
    {
     "name": "stdout",
     "output_type": "stream",
     "text": [
      "Writting with name option: Zmumu \n",
      " \n"
     ]
    },
    {
     "name": "stderr",
     "output_type": "stream",
     "text": [
      "Lite-0: all output objects have been merged                                                         \n",
      "Info in <TProofLite::SetQueryRunning>: starting query: 13\n",
      "Info in <TProofQueryResult::SetRunning>: nwrks: 2\n",
      "Info in <ACLiC>: unmodified script has already been compiled and loaded\n",
      "Looking up for exact location of files: OK (1 files)                 \n",
      "Looking up for exact location of files: OK (1 files)                 \n",
      "Info in <TPacketizer::TPacketizer>: Initial number of workers: 2\n",
      "Validating files: OK (1 files)                 \n",
      "[TProof::Progress] Total 9 events\t|====================| 100.00 % [163.6 evts/s, 603.8 kB/s, time left: 0.0 s]\n",
      " Query processing time: 0.1 s\n"
     ]
    },
    {
     "name": "stdout",
     "output_type": "stream",
     "text": [
      "Writting with name option: Ztautau \n",
      " \n"
     ]
    },
    {
     "name": "stderr",
     "output_type": "stream",
     "text": [
      "Lite-0: merging output objects ... | (1 workers still sending)   \r",
      "Lite-0: all output objects have been merged                                                         \n",
      "Info in <TProofLite::SetQueryRunning>: starting query: 14\n",
      "Info in <TProofQueryResult::SetRunning>: nwrks: 2\n",
      "Info in <ACLiC>: unmodified script has already been compiled and loaded\n",
      "Looking up for exact location of files: OK (1 files)                 \n",
      "Looking up for exact location of files: OK (1 files)                 \n",
      "Info in <TPacketizer::TPacketizer>: Initial number of workers: 2\n",
      "Validating files: OK (1 files)                 \n"
     ]
    },
    {
     "name": "stdout",
     "output_type": "stream",
     "text": [
      "Writting with name option: single_top_tchan \n",
      " \n"
     ]
    },
    {
     "name": "stderr",
     "output_type": "stream",
     "text": [
      "[TProof::Progress] Total 2 events\t|====================| 100.00 % [41.7 evts/s, 576.3 kB/s, time left: 0.0 s]\r\n",
      " Query processing time: 0.0 s\n",
      "Lite-0: merging output objects ... - (2 workers still sending)   \r",
      "Lite-0: merging output objects ... | (1 workers still sending)   \r",
      "Lite-0: all output objects have been merged                                                         \n",
      "Info in <TProofLite::SetQueryRunning>: starting query: 15\n",
      "Info in <TProofQueryResult::SetRunning>: nwrks: 2\n",
      "Info in <ACLiC>: unmodified script has already been compiled and loaded\n",
      "Looking up for exact location of files: OK (1 files)                 \n",
      "Looking up for exact location of files: OK (1 files)                 \n",
      "Info in <TPacketizer::TPacketizer>: Initial number of workers: 2\n",
      "Validating files: OK (1 files)                 \n",
      "[TProof::Progress] Total 2 events\t|====================| 100.00 % [90.9 evts/s, 1.2 MB/s, time left: 0.0 s]\r\n",
      " Query processing time: 0.0 s\n"
     ]
    },
    {
     "name": "stdout",
     "output_type": "stream",
     "text": [
      "Writting with name option: single_antitop_tchan \n",
      " \n",
      "Writting with name option: single_top_schan \n",
      " \n"
     ]
    },
    {
     "name": "stderr",
     "output_type": "stream",
     "text": [
      "Lite-0: merging output objects ... - (2 workers still sending)   \r",
      "Lite-0: merging output objects ... | (1 workers still sending)   \r",
      "Lite-0: all output objects have been merged                                                         \n",
      "Info in <TProofLite::SetQueryRunning>: starting query: 16\n",
      "Info in <TProofQueryResult::SetRunning>: nwrks: 2\n",
      "Info in <ACLiC>: unmodified script has already been compiled and loaded\n",
      "Looking up for exact location of files: OK (1 files)                 \n",
      "Looking up for exact location of files: OK (1 files)                 \n",
      "Info in <TPacketizer::TPacketizer>: Initial number of workers: 2\n",
      "Validating files: OK (1 files)                 \n",
      "[TProof::Progress] Total 2 events\t|====================| 100.00 % [90.9 evts/s, 1.2 MB/s, time left: 0.0 s]\r\n",
      " Query processing time: 0.0 s\n",
      "Lite-0: merging output objects ... - (2 workers still sending)   \r",
      "Lite-0: merging output objects ... | (1 workers still sending)   \r",
      "Lite-0: all output objects have been merged                                                         \n",
      "Info in <TProofLite::SetQueryRunning>: starting query: 17\n",
      "Info in <TProofQueryResult::SetRunning>: nwrks: 2\n",
      "Info in <ACLiC>: unmodified script has already been compiled and loaded\n",
      "Looking up for exact location of files: OK (1 files)                 \n",
      "Looking up for exact location of files: OK (1 files)                 \n"
     ]
    },
    {
     "name": "stdout",
     "output_type": "stream",
     "text": [
      "Writting with name option: single_antitop_schan \n",
      " \n"
     ]
    },
    {
     "name": "stderr",
     "output_type": "stream",
     "text": [
      "Info in <TPacketizer::TPacketizer>: Initial number of workers: 2\n",
      "Validating files: OK (1 files)                 \n",
      "Lite-0: merging output objects ... - (2 workers still sending)   \r",
      "[TProof::Progress] Total 2 events\t|====================| 100.00 % [57.1 evts/s, 791.7 kB/s, time left: 0.0 s]\r\n",
      " Query processing time: 0.0 s\n",
      "Lite-0: merging output objects ... | (1 workers still sending)   \r",
      "Lite-0: all output objects have been merged                                                         \n",
      "Info in <TProofLite::SetQueryRunning>: starting query: 18\n",
      "Info in <TProofQueryResult::SetRunning>: nwrks: 2\n",
      "Info in <ACLiC>: unmodified script has already been compiled and loaded\n",
      "Looking up for exact location of files: OK (1 files)                 \n",
      "Looking up for exact location of files: OK (1 files)                 \n",
      "Info in <TPacketizer::TPacketizer>: Initial number of workers: 2\n",
      "Validating files: OK (1 files)                 \n"
     ]
    },
    {
     "name": "stdout",
     "output_type": "stream",
     "text": [
      "Writting with name option: single_top_wtchan \n",
      " \n"
     ]
    },
    {
     "name": "stderr",
     "output_type": "stream",
     "text": [
      "[TProof::Progress] Total 56 events\t|====================| 100.00 % [1302.3 evts/s, 1.6 MB/s, time left: 0.0 s]\r\n",
      " Query processing time: 0.0 s\n",
      "Lite-0: merging output objects ... - (2 workers still sending)   \r",
      "Lite-0: merging output objects ... | (1 workers still sending)   \r",
      "Lite-0: all output objects have been merged                                                         \n",
      "Info in <TProofLite::SetQueryRunning>: starting query: 19\n",
      "Info in <TProofQueryResult::SetRunning>: nwrks: 2\n",
      "Info in <ACLiC>: unmodified script has already been compiled and loaded\n",
      "Looking up for exact location of files: OK (1 files)                 \n",
      "Looking up for exact location of files: OK (1 files)                 \n",
      "Info in <TPacketizer::TPacketizer>: Initial number of workers: 2\n",
      "Validating files: OK (1 files)                 \n"
     ]
    },
    {
     "name": "stdout",
     "output_type": "stream",
     "text": [
      "Writting with name option: single_antitop_wtchan \n",
      " \n"
     ]
    },
    {
     "name": "stderr",
     "output_type": "stream",
     "text": [
      "[TProof::Progress] Total 48 events\t|====================| 100.00 % [923.1 evts/s, 1.2 MB/s, time left: 0.0 s]\n",
      " Query processing time: 0.1 s\n",
      "Lite-0: all output objects have been merged                                                         \n",
      "Info in <TProofLite::SetQueryRunning>: starting query: 20\n",
      "Info in <TProofQueryResult::SetRunning>: nwrks: 2\n",
      "Info in <ACLiC>: unmodified script has already been compiled and loaded\n",
      "Looking up for exact location of files: OK (1 files)                 \n",
      "Looking up for exact location of files: OK (1 files)                 \n",
      "Info in <TPacketizer::TPacketizer>: Initial number of workers: 2\n",
      "Validating files: OK (1 files)                 \n",
      "[TProof::Progress] Total 1031 events\t|====================| 100.00 % [7694.0 evts/s, 5.5 MB/s, time left: 0.0 s]\n",
      " Query processing time: 0.1 s\n",
      "Lite-0: all output objects have been merged                                                         \n"
     ]
    },
    {
     "name": "stdout",
     "output_type": "stream",
     "text": [
      "Writting with name option: ttbar_lep \n",
      " \n"
     ]
    },
    {
     "name": "stderr",
     "output_type": "stream",
     "text": [
      "Info in <TProofLite::SetQueryRunning>: starting query: 21\n",
      "Info in <TProofQueryResult::SetRunning>: nwrks: 2\n",
      "Info in <ACLiC>: unmodified script has already been compiled and loaded\n",
      "Looking up for exact location of files: OK (1 files)                 \n",
      "Looking up for exact location of files: OK (1 files)                 \n",
      "Info in <TPacketizer::TPacketizer>: Initial number of workers: 2\n",
      "Validating files: OK (1 files)                 \n",
      "[TProof::Progress] Total 41502 events\t|====================| 100.00 % [13940.9 evts/s, 6.1 MB/s, time left: 0.0 s]\n",
      " Query processing time: 3.0 s\n",
      "Lite-0: all output objects have been merged                                                         \n"
     ]
    },
    {
     "name": "stdout",
     "output_type": "stream",
     "text": [
      "Writting with name option: Wplusenu \n",
      " \n"
     ]
    },
    {
     "name": "stderr",
     "output_type": "stream",
     "text": [
      "Info in <TProofLite::SetQueryRunning>: starting query: 22\n",
      "Info in <TProofQueryResult::SetRunning>: nwrks: 2\n",
      "Info in <ACLiC>: unmodified script has already been compiled and loaded\n",
      "Looking up for exact location of files: OK (1 files)                 \n",
      "Looking up for exact location of files: OK (1 files)                 \n",
      "Info in <TPacketizer::TPacketizer>: Initial number of workers: 2\n",
      "Validating files: OK (1 files)                 \n",
      "[TProof::Progress] Total 35184 events\t|====================| 100.00 % [14870.7 evts/s, 6.5 MB/s, time left: 0.0 s]\n",
      " Query processing time: 2.4 s\n",
      "Lite-0: merging output objects ... | (1 workers still sending)   \r"
     ]
    },
    {
     "name": "stdout",
     "output_type": "stream",
     "text": [
      "Writting with name option: Wplusmunu \n",
      " \n"
     ]
    },
    {
     "name": "stderr",
     "output_type": "stream",
     "text": [
      "Lite-0: all output objects have been merged                                                         \n",
      "Info in <TProofLite::SetQueryRunning>: starting query: 23\n",
      "Info in <TProofQueryResult::SetRunning>: nwrks: 2\n",
      "Info in <ACLiC>: unmodified script has already been compiled and loaded\n",
      "Looking up for exact location of files: OK (1 files)                 \n",
      "Looking up for exact location of files: OK (1 files)                 \n",
      "Info in <TPacketizer::TPacketizer>: Initial number of workers: 2\n",
      "Validating files: OK (1 files)                 \n"
     ]
    },
    {
     "name": "stdout",
     "output_type": "stream",
     "text": [
      "Writting with name option: Wplustaunu \n",
      " \n"
     ]
    },
    {
     "name": "stderr",
     "output_type": "stream",
     "text": [
      "[TProof::Progress] Total 1774 events\t|====================| 100.00 % [11157.2 evts/s, 5.4 MB/s, time left: 0.0 s]\n",
      " Query processing time: 0.2 s\n",
      "Lite-0: all output objects have been merged                                                         \n",
      "Info in <TProofLite::SetQueryRunning>: starting query: 24\n",
      "Info in <TProofQueryResult::SetRunning>: nwrks: 2\n",
      "Info in <ACLiC>: unmodified script has already been compiled and loaded\n",
      "Looking up for exact location of files: OK (1 files)                 \n",
      "Looking up for exact location of files: OK (1 files)                 \n",
      "Info in <TPacketizer::TPacketizer>: Initial number of workers: 2\n",
      "Validating files: OK (1 files)                 \n",
      "[TProof::Progress] Total 31893 events\t|====================| 100.00 % [13776.7 evts/s, 6.1 MB/s, time left: 0.0 s]\n",
      " Query processing time: 2.3 s\n",
      "Lite-0: merging output objects ... | (1 workers still sending)   \r"
     ]
    },
    {
     "name": "stdout",
     "output_type": "stream",
     "text": [
      "Writting with name option: Wminusenu \n",
      " \n"
     ]
    },
    {
     "name": "stderr",
     "output_type": "stream",
     "text": [
      "Lite-0: all output objects have been merged                                                         \n",
      "Info in <TProofLite::SetQueryRunning>: starting query: 25\n",
      "Info in <TProofQueryResult::SetRunning>: nwrks: 2\n",
      "Info in <ACLiC>: unmodified script has already been compiled and loaded\n",
      "Looking up for exact location of files: OK (1 files)                 \n",
      "Looking up for exact location of files: OK (1 files)                 \n",
      "Info in <TPacketizer::TPacketizer>: Initial number of workers: 2\n",
      "Validating files: OK (1 files)                 \n",
      "[TProof::Progress] Total 30307 events\t|====================| 100.00 % [14514.8 evts/s, 6.3 MB/s, time left: 0.0 s]\n",
      " Query processing time: 2.1 s\n",
      "Lite-0: merging output objects ... | (1 workers still sending)   \r"
     ]
    },
    {
     "name": "stdout",
     "output_type": "stream",
     "text": [
      "Writting with name option: Wminusmunu \n",
      " \n"
     ]
    },
    {
     "name": "stderr",
     "output_type": "stream",
     "text": [
      "Lite-0: all output objects have been merged                                                         \n",
      "Info in <TProofLite::SetQueryRunning>: starting query: 26\n",
      "Info in <TProofQueryResult::SetRunning>: nwrks: 2\n",
      "Info in <ACLiC>: unmodified script has already been compiled and loaded\n",
      "Looking up for exact location of files: OK (1 files)                 \n",
      "Looking up for exact location of files: OK (1 files)                 \n",
      "Info in <TPacketizer::TPacketizer>: Initial number of workers: 2\n",
      "Validating files: OK (1 files)                 \n",
      "[TProof::Progress] Total 1409 events\t|====================| 100.00 % [9717.2 evts/s, 4.7 MB/s, time left: 0.0 s]\n",
      " Query processing time: 0.1 s\n",
      "Lite-0: merging output objects ... - (2 workers still sending)   \r"
     ]
    },
    {
     "name": "stdout",
     "output_type": "stream",
     "text": [
      "Writting with name option: Wminustaunu \n"
     ]
    },
    {
     "name": "stderr",
     "output_type": "stream",
     "text": [
      "Lite-0: merging output objects ... | (1 workers still sending)   \r",
      "Lite-0: all output objects have been merged                                                         \n"
     ]
    },
    {
     "name": "stdout",
     "output_type": "stream",
     "text": [
      "end of ROOT execution\n"
     ]
    }
   ],
   "source": [
    "system(\"./run.sh\");"
   ]
  },
  {
   "cell_type": "markdown",
   "metadata": {},
   "source": [
    "## 4. Plot the result"
   ]
  },
  {
   "cell_type": "code",
   "execution_count": 10,
   "metadata": {},
   "outputs": [],
   "source": [
    "chdir(\"Plotting\");"
   ]
  },
  {
   "cell_type": "code",
   "execution_count": 11,
   "metadata": {},
   "outputs": [
    {
     "name": "stdout",
     "output_type": "stream",
     "text": [
      "/home/student/ZZDiBoson/Plotting\n"
     ]
    }
   ],
   "source": [
    "system(\"pwd\");"
   ]
  },
  {
   "cell_type": "code",
   "execution_count": 12,
   "metadata": {},
   "outputs": [],
   "source": [
    "system(\"chmod 777 plotme.sh\");"
   ]
  },
  {
   "cell_type": "code",
   "execution_count": 13,
   "metadata": {},
   "outputs": [
    {
     "name": "stdout",
     "output_type": "stream",
     "text": [
      "WELCOME!! Which analysis you want to plot?\n",
      "Input your option now (and click <ENTER>):\n",
      "0 = WBosonAnalysis\n",
      "1 = ZBosonAnalysis\n",
      "2 = TTbarAnalysis\n",
      "3 = SingleTopAnalysis\n",
      "4 = WZDiBosonAnalysis\n",
      "5 = ZZDiBosonAnalysis\n",
      "6 = HWWAnalysis\n",
      "7 = HZZAnalysis\n",
      "8 = ZTauTauAnalysis\n",
      "9 = HyyAnalysis\n",
      "10 = SUSYAnalysis\n",
      "11 = ZPrimeBoostedAnalysis\n",
      "Now, choose the location of the ZZDiBosonAnalysis output!\n",
      "If the location corresponds to ../Output_ZZDiBosonAnalysis: type 0\n",
      "If you have a custom location path: type 1\n"
     ]
    },
    {
     "name": "stderr",
     "output_type": "stream",
     "text": [
      "Info in <TUnixSystem::ACLiC>: creating shared library /home/student/ZZDiBoson/Plotting/./Plotting_cxx.so\n",
      "Warning in cling::IncrementalParser::CheckABICompatibility():\n",
      "  Possible C++ standard library mismatch, compiled with __GLIBCXX__ '20181206'\n",
      "  Extraction of runtime standard library version was: '20191114'\n"
     ]
    },
    {
     "name": "stdout",
     "output_type": "stream",
     "text": [
      "\n",
      " ---------------------DISCLAIMER--------------------- \n",
      "\n",
      "This Software is intended for educational use only!\n",
      "Under no circumstances does it qualify to reproduce actual ATLAS analysis results or produce publishable results! \n",
      "\n",
      " ---------------------------------------------------- \n",
      "\n",
      "Analysis option found, proceeding...\n",
      "Reading list of histograms from: list_histos/HistoList_ZZDiBosonAnalysis.txt \n",
      " \n",
      "Analysis: ZZDiBosonAnalysis, reading input from: inputfiles/Files_base.txt \n",
      " \n",
      "Reading files from: ../Output_ZZDiBosonAnalysis \n",
      " \n",
      "=====processing ZZDiBosonAnalysis=====\n",
      "\n",
      "\n",
      "Plotting histogram: hist_fourlepsys_m\n"
     ]
    },
    {
     "name": "stderr",
     "output_type": "stream",
     "text": [
      "Info in <TCanvas::Print>: png file histograms/hist_fourlepsys_m.png has been created\n",
      "Info in <TCanvas::Print>: pdf file histograms/hist_fourlepsys_m.pdf has been created\n"
     ]
    },
    {
     "name": "stdout",
     "output_type": "stream",
     "text": [
      "Plotting histogram: hist_fourlepsys_pt\n"
     ]
    },
    {
     "name": "stderr",
     "output_type": "stream",
     "text": [
      "Info in <TCanvas::SaveAs>: ROOT file histograms/hist_fourlepsys_m.root has been created\n",
      "Info in <TCanvas::Print>: png file histograms/hist_fourlepsys_pt.png has been created\n"
     ]
    },
    {
     "name": "stdout",
     "output_type": "stream",
     "text": [
      "Plotting histogram: hist_fourlepsys_y\n"
     ]
    },
    {
     "name": "stderr",
     "output_type": "stream",
     "text": [
      "Info in <TCanvas::Print>: pdf file histograms/hist_fourlepsys_pt.pdf has been created\n",
      "Info in <TCanvas::SaveAs>: ROOT file histograms/hist_fourlepsys_pt.root has been created\n"
     ]
    },
    {
     "name": "stdout",
     "output_type": "stream",
     "text": [
      "Plotting histogram: hist_fourleptE\n"
     ]
    },
    {
     "name": "stderr",
     "output_type": "stream",
     "text": [
      "Info in <TCanvas::Print>: png file histograms/hist_fourlepsys_y.png has been created\n",
      "Info in <TCanvas::Print>: pdf file histograms/hist_fourlepsys_y.pdf has been created\n",
      "Info in <TCanvas::SaveAs>: ROOT file histograms/hist_fourlepsys_y.root has been created\n"
     ]
    },
    {
     "name": "stdout",
     "output_type": "stream",
     "text": [
      "Plotting histogram: hist_fourleptID\n"
     ]
    },
    {
     "name": "stderr",
     "output_type": "stream",
     "text": [
      "Info in <TCanvas::Print>: png file histograms/hist_fourleptE.png has been created\n",
      "Info in <TCanvas::Print>: pdf file histograms/hist_fourleptE.pdf has been created\n",
      "Info in <TCanvas::SaveAs>: ROOT file histograms/hist_fourleptE.root has been created\n",
      "Info in <TCanvas::Print>: png file histograms/hist_fourleptID.png has been created\n"
     ]
    },
    {
     "name": "stdout",
     "output_type": "stream",
     "text": [
      "Plotting histogram: hist_fourleptch\n"
     ]
    },
    {
     "name": "stderr",
     "output_type": "stream",
     "text": [
      "Info in <TCanvas::Print>: pdf file histograms/hist_fourleptID.pdf has been created\n",
      "Info in <TCanvas::SaveAs>: ROOT file histograms/hist_fourleptID.root has been created\n"
     ]
    },
    {
     "name": "stdout",
     "output_type": "stream",
     "text": [
      "Plotting histogram: hist_fourlepteta\n"
     ]
    },
    {
     "name": "stderr",
     "output_type": "stream",
     "text": [
      "Info in <TCanvas::Print>: png file histograms/hist_fourleptch.png has been created\n",
      "Info in <TCanvas::Print>: pdf file histograms/hist_fourleptch.pdf has been created\n",
      "Info in <TCanvas::SaveAs>: ROOT file histograms/hist_fourleptch.root has been created\n",
      "Info in <TCanvas::Print>: png file histograms/hist_fourlepteta.png has been created\n"
     ]
    },
    {
     "name": "stdout",
     "output_type": "stream",
     "text": [
      "Plotting histogram: hist_fourleptphi\n"
     ]
    },
    {
     "name": "stderr",
     "output_type": "stream",
     "text": [
      "Info in <TCanvas::Print>: pdf file histograms/hist_fourlepteta.pdf has been created\n",
      "Info in <TCanvas::SaveAs>: ROOT file histograms/hist_fourlepteta.root has been created\n"
     ]
    },
    {
     "name": "stdout",
     "output_type": "stream",
     "text": [
      "Plotting histogram: hist_fourleptpt\n"
     ]
    },
    {
     "name": "stderr",
     "output_type": "stream",
     "text": [
      "Info in <TCanvas::Print>: png file histograms/hist_fourleptphi.png has been created\n",
      "Info in <TCanvas::Print>: pdf file histograms/hist_fourleptphi.pdf has been created\n",
      "Info in <TCanvas::SaveAs>: ROOT file histograms/hist_fourleptphi.root has been created\n"
     ]
    },
    {
     "name": "stdout",
     "output_type": "stream",
     "text": [
      "Plotting histogram: hist_mLL1\n"
     ]
    },
    {
     "name": "stderr",
     "output_type": "stream",
     "text": [
      "Info in <TCanvas::Print>: png file histograms/hist_fourleptpt.png has been created\n",
      "Info in <TCanvas::Print>: pdf file histograms/hist_fourleptpt.pdf has been created\n",
      "Info in <TCanvas::SaveAs>: ROOT file histograms/hist_fourleptpt.root has been created\n"
     ]
    },
    {
     "name": "stdout",
     "output_type": "stream",
     "text": [
      "Plotting histogram: hist_mLL2\n"
     ]
    },
    {
     "name": "stderr",
     "output_type": "stream",
     "text": [
      "Info in <TCanvas::Print>: png file histograms/hist_mLL1.png has been created\n",
      "Info in <TCanvas::Print>: pdf file histograms/hist_mLL1.pdf has been created\n",
      "Info in <TCanvas::SaveAs>: ROOT file histograms/hist_mLL1.root has been created\n",
      "Info in <TCanvas::Print>: png file histograms/hist_mLL2.png has been created\n"
     ]
    },
    {
     "name": "stdout",
     "output_type": "stream",
     "text": [
      "paso de aqui\n"
     ]
    },
    {
     "name": "stderr",
     "output_type": "stream",
     "text": [
      "Info in <TCanvas::Print>: pdf file histograms/hist_mLL2.pdf has been created\n",
      "Info in <TCanvas::SaveAs>: ROOT file histograms/hist_mLL2.root has been created\n"
     ]
    }
   ],
   "source": [
    "system(\"./plotme.sh\");"
   ]
  },
  {
   "cell_type": "code",
   "execution_count": 14,
   "metadata": {},
   "outputs": [
    {
     "name": "stdout",
     "output_type": "stream",
     "text": [
      "total 588K\n",
      "-rw-r--r-- 1 student student  21K Jan  4 23:08 hist_fourlepsys_m.png\n",
      "-rw-r--r-- 1 student student  17K Jan  4 23:08 hist_fourlepsys_m.pdf\n",
      "-rw-r--r-- 1 student student  11K Jan  4 23:08 hist_fourlepsys_m.root\n",
      "-rw-r--r-- 1 student student  23K Jan  4 23:08 hist_fourlepsys_pt.png\n",
      "-rw-r--r-- 1 student student  18K Jan  4 23:08 hist_fourlepsys_pt.pdf\n",
      "-rw-r--r-- 1 student student  11K Jan  4 23:08 hist_fourlepsys_pt.root\n",
      "-rw-r--r-- 1 student student  21K Jan  4 23:08 hist_fourlepsys_y.png\n",
      "-rw-r--r-- 1 student student  17K Jan  4 23:08 hist_fourlepsys_y.pdf\n",
      "-rw-r--r-- 1 student student  11K Jan  4 23:08 hist_fourlepsys_y.root\n",
      "-rw-r--r-- 1 student student  22K Jan  4 23:08 hist_fourleptE.png\n",
      "-rw-r--r-- 1 student student  18K Jan  4 23:08 hist_fourleptE.pdf\n",
      "-rw-r--r-- 1 student student  11K Jan  4 23:08 hist_fourleptE.root\n",
      "-rw-r--r-- 1 student student  19K Jan  4 23:08 hist_fourleptID.png\n",
      "-rw-r--r-- 1 student student  15K Jan  4 23:08 hist_fourleptID.pdf\n",
      "-rw-r--r-- 1 student student 9.7K Jan  4 23:08 hist_fourleptID.root\n",
      "-rw-r--r-- 1 student student  18K Jan  4 23:08 hist_fourleptch.png\n",
      "-rw-r--r-- 1 student student  15K Jan  4 23:08 hist_fourleptch.pdf\n",
      "-rw-r--r-- 1 student student 9.6K Jan  4 23:08 hist_fourleptch.root\n",
      "-rw-r--r-- 1 student student  21K Jan  4 23:08 hist_fourlepteta.png\n",
      "-rw-r--r-- 1 student student  17K Jan  4 23:08 hist_fourlepteta.pdf\n",
      "-rw-r--r-- 1 student student  11K Jan  4 23:08 hist_fourlepteta.root\n",
      "-rw-r--r-- 1 student student  21K Jan  4 23:08 hist_fourleptphi.png\n",
      "-rw-r--r-- 1 student student  18K Jan  4 23:08 hist_fourleptphi.pdf\n",
      "-rw-r--r-- 1 student student  11K Jan  4 23:08 hist_fourleptphi.root\n",
      "-rw-r--r-- 1 student student  23K Jan  4 23:08 hist_fourleptpt.png\n",
      "-rw-r--r-- 1 student student  18K Jan  4 23:08 hist_fourleptpt.pdf\n",
      "-rw-r--r-- 1 student student  11K Jan  4 23:08 hist_fourleptpt.root\n",
      "-rw-r--r-- 1 student student  19K Jan  4 23:08 hist_mLL1.png\n",
      "-rw-r--r-- 1 student student  16K Jan  4 23:08 hist_mLL1.pdf\n",
      "-rw-r--r-- 1 student student  11K Jan  4 23:08 hist_mLL1.root\n",
      "-rw-r--r-- 1 student student  20K Jan  4 23:08 hist_mLL2.png\n",
      "-rw-r--r-- 1 student student  17K Jan  4 23:08 hist_mLL2.pdf\n",
      "-rw-r--r-- 1 student student  11K Jan  4 23:08 hist_mLL2.root\n"
     ]
    }
   ],
   "source": [
    "system(\"ls -lhrt histograms/\");"
   ]
  },
  {
   "cell_type": "code",
   "execution_count": 15,
   "metadata": {},
   "outputs": [
    {
     "name": "stdout",
     "output_type": "stream",
     "text": [
      "Mon Jan  4 23:08:14 CET 2021\n"
     ]
    },
    {
     "name": "stderr",
     "output_type": "stream",
     "text": [
      "\u001b[1minput_line_45:2:44: \u001b[0m\u001b[0;1;31merror: \u001b[0m\u001b[1muse of undeclared identifier 'startTime'\u001b[0m\n",
      " ((double)(((*(clock_t*)0x7f19d1f13018)) - startTime) / ((__clock_t)1000...\n",
      "\u001b[0;1;32m                                           ^\n",
      "\u001b[0mError in <HandleInterpreterException>: Error evaluating expression ((double)(((*(clock_t*)0x7f19d1f13018)) - startTime) / ((__clock_t)1000000) * 1000.).\n",
      "Execution of your code was aborted.\n"
     ]
    }
   ],
   "source": [
    "system(\"date\");\n",
    "clock_t endTime = clock(); \n",
    "double time_taken = (double) (endTime-startTime) / CLOCKS_PER_SEC * 1000.0; // in seconds \n",
    "cout << \"Finished in \" << (int)(time_taken / 60) << \" min \" << (int)time_taken % (int)60 << \" s \" << endl;   "
   ]
  },
  {
   "cell_type": "code",
   "execution_count": null,
   "metadata": {},
   "outputs": [],
   "source": []
  }
 ],
 "metadata": {
  "kernelspec": {
   "display_name": "ROOT C++",
   "language": "c++",
   "name": "root"
  },
  "language_info": {
   "codemirror_mode": "text/x-c++src",
   "file_extension": ".C",
   "mimetype": " text/x-c++src",
   "name": "c++"
  }
 },
 "nbformat": 4,
 "nbformat_minor": 1
}
